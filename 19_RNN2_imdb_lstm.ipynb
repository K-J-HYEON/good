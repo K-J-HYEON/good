{
  "nbformat": 4,
  "nbformat_minor": 0,
  "metadata": {
    "kernelspec": {
      "display_name": "Python 3",
      "language": "python",
      "name": "python3"
    },
    "language_info": {
      "codemirror_mode": {
        "name": "ipython",
        "version": 3
      },
      "file_extension": ".py",
      "mimetype": "text/x-python",
      "name": "python",
      "nbconvert_exporter": "python",
      "pygments_lexer": "ipython3",
      "version": "3.7.3"
    },
    "colab": {
      "name": "19_RNN2_imdb_lstm.ipynb",
      "provenance": [],
      "collapsed_sections": [],
      "include_colab_link": true
    },
    "accelerator": "GPU"
  },
  "cells": [
    {
      "cell_type": "markdown",
      "metadata": {
        "id": "view-in-github",
        "colab_type": "text"
      },
      "source": [
        "<a href=\"https://colab.research.google.com/github/K-J-HYEON/good/blob/add-input-method/19_RNN2_imdb_lstm.ipynb\" target=\"_parent\"><img src=\"https://colab.research.google.com/assets/colab-badge.svg\" alt=\"Open In Colab\"/></a>"
      ]
    },
    {
      "cell_type": "code",
      "metadata": {
        "colab": {
          "base_uri": "https://localhost:8080/",
          "height": 1000
        },
        "id": "_TIrsqiW6ZSM",
        "outputId": "0ac2b48b-7c6d-4303-b5da-9b929c371ec9"
      },
      "source": [
        "# -*- coding: utf-8 -*-\n",
        "# 코드 내부에 한글을 사용가능 하게 해주는 부분입니다.\n",
        "\n",
        "%%time\n",
        "from keras.preprocessing import sequence\n",
        "from keras.models import Sequential\n",
        "from keras.layers import Dense, Dropout, Activation #\n",
        "from keras.layers import Embedding\n",
        "from keras.layers import LSTM\n",
        "from keras.layers import Conv1D, MaxPooling1D #CNN모델을 같이 혼합해서 써보겠다. #Conv1D 중요\n",
        "from keras.datasets import imdb\n",
        "\n",
        "import numpy\n",
        "import tensorflow as tf\n",
        "import matplotlib.pyplot as plt\n",
        "\n",
        "# seed 값 설정\n",
        "seed = 0\n",
        "numpy.random.seed(seed)\n",
        "tf.random.set_seed(3)\n",
        "\n",
        "# 학습셋, 테스트셋 지정하기\n",
        "(x_train, y_train), (x_test, y_test) = imdb.load_data(num_words=5000) #num_words라는 인자는 =5000이니까 1~5000에 해당하는 단어만 선택해서 불러오는 것이다.\n",
        "\n",
        "# 데이터 전처리\n",
        "x_train = sequence.pad_sequences(x_train, maxlen=100)\n",
        "#이때는 다음과 같이 데이터 전처리 함수 sequence()를 이용한다.\n",
        "#100개 이상이면 버리고 100개 미만이면 값을 취하겠다.(100에서 모자랄 때는 모자라는 부분을 모두 0으로 채운다.) #maxlen = 100\n",
        "\n",
        "x_test = sequence.pad_sequences(x_test, maxlen=100)\n",
        "\n",
        "# 모델의 설정\n",
        "model = Sequential()\n",
        "model.add(Embedding(5000, 100)) #(불러온 단어의 총 개수, 영화 당 단어 수)\n",
        "#5000개의 단어를 ~(100개의 노드를 통과?해서=>param 50만 차원)\n",
        "\n",
        "model.add(Dropout(0.5))\n",
        "model.add(Conv1D(64, 5, padding='valid', activation='relu',strides=1))\n",
        "#64종류의 mask, 5 * 5의 kunnel크기/ padding은 valid니까 zeropadding과 반대 =>  #렐루로 빼고 1칸씩 옮긴다.\n",
        "\n",
        "model.add(MaxPooling1D(pool_size=4)) #필터된 값을 가지고 맥스풀링으로 줄인다.(가장 큰 값을 다음 층으로 넘기고 나머지는 버린다.)\n",
        "\n",
        "model.add(LSTM(55))\n",
        "model.add(Dense(1)) #덴스로 쌓은 다음에\n",
        "model.add(Activation('sigmoid'))\n",
        "model.summary()#model.summary()함수 = > 현재 설정된 모델의 구조를 한눈에 볼 수 있다.\n",
        "\n",
        "# 모델의 컴파일\n",
        "model.compile(loss='binary_crossentropy',\n",
        "              optimizer='adam',\n",
        "              metrics=['accuracy'])\n",
        "\n",
        "# 모델의 실행\n",
        "history = model.fit(x_train, y_train, batch_size=100, epochs=5, validation_data=(x_test, y_test))\n",
        "\n",
        "\n",
        "# 테스트 정확도 출력\n",
        "print(\"\\n Test Accuracy: %.4f\" % (model.evaluate(x_test, y_test)[1]))\n",
        "\n",
        "\n",
        "# 테스트 셋의 오차\n",
        "y_vloss = history.history['val_loss']\n",
        "\n",
        "# 학습셋의 오차\n",
        "y_loss = history.history['loss']\n",
        "\n",
        "# 그래프로 표현\n",
        "x_len = numpy.arange(len(y_loss))\n",
        "plt.plot(x_len, y_vloss, marker='.', c=\"red\", label='Testset_loss')\n",
        "plt.plot(x_len, y_loss, marker='.', c=\"blue\", label='Trainset_loss')\n",
        "\n",
        "# 그래프에 그리드를 주고 레이블을 표시\n",
        "plt.legend(loc='upper right')\n",
        "plt.grid()\n",
        "plt.xlabel('epoch')\n",
        "plt.ylabel('loss')\n",
        "plt.show()\n"
      ],
      "execution_count": null,
      "outputs": [
        {
          "output_type": "stream",
          "text": [
            "<string>:6: VisibleDeprecationWarning: Creating an ndarray from ragged nested sequences (which is a list-or-tuple of lists-or-tuples-or ndarrays with different lengths or shapes) is deprecated. If you meant to do this, you must specify 'dtype=object' when creating the ndarray\n",
            "/usr/local/lib/python3.6/dist-packages/tensorflow/python/keras/datasets/imdb.py:159: VisibleDeprecationWarning: Creating an ndarray from ragged nested sequences (which is a list-or-tuple of lists-or-tuples-or ndarrays with different lengths or shapes) is deprecated. If you meant to do this, you must specify 'dtype=object' when creating the ndarray\n",
            "  x_train, y_train = np.array(xs[:idx]), np.array(labels[:idx])\n",
            "/usr/local/lib/python3.6/dist-packages/tensorflow/python/keras/datasets/imdb.py:160: VisibleDeprecationWarning: Creating an ndarray from ragged nested sequences (which is a list-or-tuple of lists-or-tuples-or ndarrays with different lengths or shapes) is deprecated. If you meant to do this, you must specify 'dtype=object' when creating the ndarray\n",
            "  x_test, y_test = np.array(xs[idx:]), np.array(labels[idx:])\n"
          ],
          "name": "stderr"
        },
        {
          "output_type": "stream",
          "text": [
            "Model: \"sequential_1\"\n",
            "_________________________________________________________________\n",
            "Layer (type)                 Output Shape              Param #   \n",
            "=================================================================\n",
            "embedding_1 (Embedding)      (None, None, 100)         500000    \n",
            "_________________________________________________________________\n",
            "dropout_1 (Dropout)          (None, None, 100)         0         \n",
            "_________________________________________________________________\n",
            "conv1d_1 (Conv1D)            (None, None, 64)          32064     \n",
            "_________________________________________________________________\n",
            "max_pooling1d_1 (MaxPooling1 (None, None, 64)          0         \n",
            "_________________________________________________________________\n",
            "lstm_1 (LSTM)                (None, 55)                26400     \n",
            "_________________________________________________________________\n",
            "dense_1 (Dense)              (None, 1)                 56        \n",
            "_________________________________________________________________\n",
            "activation_1 (Activation)    (None, 1)                 0         \n",
            "=================================================================\n",
            "Total params: 558,520\n",
            "Trainable params: 558,520\n",
            "Non-trainable params: 0\n",
            "_________________________________________________________________\n",
            "Epoch 1/5\n",
            "250/250 [==============================] - 5s 17ms/step - loss: 0.5558 - accuracy: 0.6808 - val_loss: 0.3673 - val_accuracy: 0.8383\n",
            "Epoch 2/5\n",
            "250/250 [==============================] - 4s 14ms/step - loss: 0.2921 - accuracy: 0.8794 - val_loss: 0.3336 - val_accuracy: 0.8562\n",
            "Epoch 3/5\n",
            "250/250 [==============================] - 4s 15ms/step - loss: 0.2426 - accuracy: 0.8987 - val_loss: 0.3246 - val_accuracy: 0.8594\n",
            "Epoch 4/5\n",
            "250/250 [==============================] - 4s 14ms/step - loss: 0.2000 - accuracy: 0.9223 - val_loss: 0.3281 - val_accuracy: 0.8555\n",
            "Epoch 5/5\n",
            "250/250 [==============================] - 4s 15ms/step - loss: 0.1705 - accuracy: 0.9382 - val_loss: 0.3493 - val_accuracy: 0.8540\n",
            "782/782 [==============================] - 3s 3ms/step - loss: 0.3493 - accuracy: 0.8540\n",
            "\n",
            " Test Accuracy: 0.8540\n"
          ],
          "name": "stdout"
        },
        {
          "output_type": "display_data",
          "data": {
            "image/png": "[encoded data removed]",
            "text/plain": [
              "<Figure size 432x288 with 1 Axes>"
            ]
          },
          "metadata": {
            "tags": [],
            "needs_background": "light"
          }
        },
        {
          "output_type": "stream",
          "text": [
            "CPU times: user 31.3 s, sys: 2.42 s, total: 33.7 s\n",
            "Wall time: 28.4 s\n"
          ],
          "name": "stdout"
        }
      ]
    },
    {
      "cell_type": "code",
      "metadata": {
        "id": "fp8TnmH96ZSP"
      },
      "source": [
        ""
      ],
      "execution_count": null,
      "outputs": []
    }
  ]
}