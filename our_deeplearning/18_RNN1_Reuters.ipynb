{
  "nbformat": 4,
  "nbformat_minor": 0,
  "metadata": {
    "kernelspec": {
      "display_name": "Python 3",
      "language": "python",
      "name": "python3"
    },
    "language_info": {
      "codemirror_mode": {
        "name": "ipython",
        "version": 3
      },
      "file_extension": ".py",
      "mimetype": "text/x-python",
      "name": "python",
      "nbconvert_exporter": "python",
      "pygments_lexer": "ipython3",
      "version": "3.7.3"
    },
    "colab": {
      "name": "18_RNN1_Reuters.ipynb",
      "provenance": [],
      "collapsed_sections": [],
      "include_colab_link": true
    },
    "accelerator": "GPU"
  },
  "cells": [
    {
      "cell_type": "markdown",
      "metadata": {
        "id": "view-in-github",
        "colab_type": "text"
      },
      "source": [
        "<a href=\"https://colab.research.google.com/github/K-J-HYEON/good/blob/add-input-method/18_RNN1_Reuters.ipynb\" target=\"_parent\"><img src=\"https://colab.research.google.com/assets/colab-badge.svg\" alt=\"Open In Colab\"/></a>"
      ]
    },
    {
      "cell_type": "code",
      "metadata": {
        "id": "bAW6wydc3Aez"
      },
      "source": [
        "# -*- coding: utf-8 -*-\n",
        "# 코드 내부에 한글을 사용가능 하게 해주는 부분입니다.\n",
        "# 텐서플로우 1.x 버전 코드 돌릴때\n",
        "# !pip install -q tensorflow-gpu==1.15.0\n",
        "# %tensorflow_version 1.x\n"
      ],
      "execution_count": null,
      "outputs": []
    },
    {
      "cell_type": "code",
      "metadata": {
        "colab": {
          "base_uri": "https://localhost:8080/",
          "height": 1000
        },
        "id": "2u8SlKN75CQX",
        "outputId": "e16a0233-898c-4842-ef43-2d5d8b28f7b3"
      },
      "source": [
        "\n",
        "\n",
        "# %%time #시간 얼마나 걸리는지 돌려봐라\n",
        "import numpy\n",
        "import tensorflow as tf\n",
        "import matplotlib.pyplot as plt\n",
        "\n",
        "# 로이터 뉴스 데이터셋 불러오기\n",
        "from keras.datasets import reuters #케라스에서 로이터를 가져오겠다.\n",
        "from keras.models import Sequential #반드시 Dense층이 나온다.\n",
        "#from tensorflow.keras.models import Sequential\n",
        "#from tensorflow.keras.layers import Dense,LSTM,Embedding\n",
        "from keras.layers import Dense, LSTM, Embedding #엠비딩 기법 이용해서 LSTM 사용한다.\n",
        "from keras.preprocessing import sequence\n",
        "from keras.utils import np_utils\n",
        "\n",
        "\n",
        "\n",
        "# seed 값 설정\n",
        "seed = 0\n",
        "numpy.random.seed(seed)\n",
        "tf.random.set_seed(3)\n",
        "\n",
        "# 불러온 데이터를 학습셋, 테스트셋으로 나누기\n",
        "(X_train, Y_train), (X_test, Y_test) = reuters.load_data(num_words=1000, test_split=0.2) #reuter.load_data() 함수를 이용해서 기사를 불러오고\n",
        "#test_split 인자를 통해서 20%를 테스트셋으로 사용했다. num_words라는 인자는 =1000이니까 1~1000에 해당하는 단어만 선택해서 불러오는 것이다.\n",
        "\n",
        "\n",
        "# 데이터 확인하기\n",
        "category = numpy.max(Y_train) + 1  #numpy.max() 함수로 Y_train의 종류를 구하니 46개의 카테고리로 구분되어 있음을 알 수 있고\n",
        "#전체길이가 처음은 0으로 시작한다.(그래서 1을 더함) / (bos(~sentence)때문에?)\n",
        "\n",
        "print(category, '카테고리')\n",
        "print(len(X_train), '학습용 뉴스 기사')\n",
        "print(len(X_test), '테스트용 뉴스 기사')\n",
        "print(X_train[0]) # print(X_train[0])으로 기사를 출력해 보니 단어가 나오는게 아니라, [1, 2, ~]같은 숫자가 나온다. \n",
        "# 즉, 데이터 안에서 해당 단어가 몇 번이나 나타나는지 세어 빈도!!!에 따라 번호를 붙였다.(3이면 세 번째로 빈도가 높은 단어라는 뜻)\n",
        "\n",
        "\n",
        "# 데이터 전처리\n",
        "x_train = sequence.pad_sequences(X_train, maxlen=100) # 각 기사의 단어 수가 제 각각 다르므로 이를 동일하게 맞춰야 한다.\n",
        "#이때는 다음과 같이 데이터 전처리 함수 sequence()를 이용한다.\n",
        "#100개 이상이면 버리고 100개 미만이면 값을 취하겠다.(100에서 모자랄 때는 모자라는 부분을 모두 0으로 채운다.) #maxlen = 100\n",
        "\n",
        "x_test = sequence.pad_sequences(X_test, maxlen=100)\n",
        "\n",
        "y_train = np_utils.to_categorical(Y_train)\n",
        "y_test = np_utils.to_categorical(Y_test)\n",
        "#y데이터에 원-핫 인코딩 처리를 해서 데이터 전처리 과정을 마친다.\n",
        "\n",
        "\n",
        "\n",
        "\n",
        "\n",
        "# 모델의 설정\n",
        "model = Sequential() #Embedding층과 LSTM 층이 추가되었는데 \n",
        "# Embedding 층은 데이터 전처리 과정을 통해 입력된 값을 받아 다음 층이 알아들을 수 있는 형태로 변환하는 역할 \n",
        "model.add(Embedding(1000, 100)) #1000개의 단어를 가져와서 100개만 len값을 가져가고\n",
        "# Embedding('불러온 단어의 총 개수', '기사당 단어 수')형식=>model 설정 부분의 맨 처음에 위치해야한다.\n",
        "\n",
        "model.add(LSTM(100, activation='tanh')) #임배딩(~,100) = LSTM(100, ~) 숫자맞춰준다.\n",
        "# LSTM(Long Short Term Memory)은 RNN(순환신경망)에서 기억 값에 대한 가중치를 제어하며, LSTM(기사당 단어 수, 기타 옵션)의 형식으로 적용 = > 활성화함수로는 탄젠트함수 쓴다.\n",
        "\n",
        "\n",
        "model.add(Dense(46, activation='softmax'))\n",
        "\n",
        "# 모델의 컴파일\n",
        "model.compile(loss='categorical_crossentropy',\n",
        "            optimizer='adam',   #= > fine-tuning\n",
        "            metrics=['accuracy'])\n",
        "\n",
        "\n",
        "# 모델의 실행 (모델 구축 : 학습 데이터 셋)\n",
        "history = model.fit(x_train, y_train, batch_size=100, epochs=20, validation_data=(x_test, y_test))\n",
        "# .fit(train데이터이다)\n",
        "\n",
        "# 테스트 정확도 출력 (모델 평가는 test set!!)\n",
        "print(\"\\n Test Accuracy: %.4f\" % (model.evaluate(x_test, y_test)[1]))\n",
        "#.evaluate(test데이터이다.)\n",
        "\n",
        "# 테스트 셋의 오차\n",
        "y_vloss = history.history['val_loss']\n",
        "\n",
        "# 학습셋의 오차\n",
        "y_loss = history.history['loss']\n",
        "\n",
        "\n",
        "# 그래프로 표현\n",
        "x_len = numpy.arange(len(y_loss))\n",
        "plt.plot(x_len, y_vloss, marker='.', c=\"red\", label='Testset_loss')\n",
        "plt.plot(x_len, y_loss, marker='.', c=\"blue\", label='Trainset_loss')\n",
        "\n",
        "\n",
        "# 그래프에 그리드를 주고 레이블을 표시\n",
        "plt.legend(loc='upper right')\n",
        "plt.grid()\n",
        "plt.xlabel('epoch')\n",
        "plt.ylabel('loss')\n",
        "plt.show()\n",
        "\n",
        "# test accuracy가 낮다 = > 다시 짜야한다."
      ],
      "execution_count": null,
      "outputs": [
        {
          "output_type": "stream",
          "text": [
            "Downloading data from https://storage.googleapis.com/tensorflow/tf-keras-datasets/reuters.npz\n",
            "2113536/2110848 [==============================] - 0s 0us/step\n"
          ],
          "name": "stdout"
        },
        {
          "output_type": "stream",
          "text": [
            "/usr/local/lib/python3.6/dist-packages/tensorflow/python/keras/datasets/reuters.py:148: VisibleDeprecationWarning: Creating an ndarray from ragged nested sequences (which is a list-or-tuple of lists-or-tuples-or ndarrays with different lengths or shapes) is deprecated. If you meant to do this, you must specify 'dtype=object' when creating the ndarray\n",
            "  x_train, y_train = np.array(xs[:idx]), np.array(labels[:idx])\n",
            "/usr/local/lib/python3.6/dist-packages/tensorflow/python/keras/datasets/reuters.py:149: VisibleDeprecationWarning: Creating an ndarray from ragged nested sequences (which is a list-or-tuple of lists-or-tuples-or ndarrays with different lengths or shapes) is deprecated. If you meant to do this, you must specify 'dtype=object' when creating the ndarray\n",
            "  x_test, y_test = np.array(xs[idx:]), np.array(labels[idx:])\n"
          ],
          "name": "stderr"
        },
        {
          "output_type": "stream",
          "text": [
            "46 카테고리\n",
            "8982 학습용 뉴스 기사\n",
            "2246 테스트용 뉴스 기사\n",
            "[1, 2, 2, 8, 43, 10, 447, 5, 25, 207, 270, 5, 2, 111, 16, 369, 186, 90, 67, 7, 89, 5, 19, 102, 6, 19, 124, 15, 90, 67, 84, 22, 482, 26, 7, 48, 4, 49, 8, 864, 39, 209, 154, 6, 151, 6, 83, 11, 15, 22, 155, 11, 15, 7, 48, 9, 2, 2, 504, 6, 258, 6, 272, 11, 15, 22, 134, 44, 11, 15, 16, 8, 197, 2, 90, 67, 52, 29, 209, 30, 32, 132, 6, 109, 15, 17, 12]\n",
            "Epoch 1/20\n",
            "90/90 [==============================] - 10s 22ms/step - loss: 2.9665 - accuracy: 0.3179 - val_loss: 2.1698 - val_accuracy: 0.4488\n",
            "Epoch 2/20\n",
            "90/90 [==============================] - 1s 12ms/step - loss: 2.0567 - accuracy: 0.4787 - val_loss: 1.9571 - val_accuracy: 0.5067\n",
            "Epoch 3/20\n",
            "90/90 [==============================] - 1s 12ms/step - loss: 1.9226 - accuracy: 0.5094 - val_loss: 1.8247 - val_accuracy: 0.5276\n",
            "Epoch 4/20\n",
            "90/90 [==============================] - 1s 13ms/step - loss: 1.7706 - accuracy: 0.5371 - val_loss: 1.7606 - val_accuracy: 0.5534\n",
            "Epoch 5/20\n",
            "90/90 [==============================] - 1s 12ms/step - loss: 1.7496 - accuracy: 0.5447 - val_loss: 1.7314 - val_accuracy: 0.5570\n",
            "Epoch 6/20\n",
            "90/90 [==============================] - 1s 13ms/step - loss: 1.6583 - accuracy: 0.5761 - val_loss: 1.6469 - val_accuracy: 0.5966\n",
            "Epoch 7/20\n",
            "90/90 [==============================] - 1s 13ms/step - loss: 1.6145 - accuracy: 0.6004 - val_loss: 1.6773 - val_accuracy: 0.5997\n",
            "Epoch 8/20\n",
            "90/90 [==============================] - 1s 13ms/step - loss: 1.5387 - accuracy: 0.6217 - val_loss: 1.6028 - val_accuracy: 0.5939\n",
            "Epoch 9/20\n",
            "90/90 [==============================] - 1s 12ms/step - loss: 1.4221 - accuracy: 0.6367 - val_loss: 1.4978 - val_accuracy: 0.6278\n",
            "Epoch 10/20\n",
            "90/90 [==============================] - 1s 12ms/step - loss: 1.3298 - accuracy: 0.6586 - val_loss: 1.4377 - val_accuracy: 0.6460\n",
            "Epoch 11/20\n",
            "90/90 [==============================] - 1s 13ms/step - loss: 1.2937 - accuracy: 0.6655 - val_loss: 1.3789 - val_accuracy: 0.6581\n",
            "Epoch 12/20\n",
            "90/90 [==============================] - 1s 13ms/step - loss: 1.1916 - accuracy: 0.6959 - val_loss: 1.3528 - val_accuracy: 0.6545\n",
            "Epoch 13/20\n",
            "90/90 [==============================] - 1s 13ms/step - loss: 1.1037 - accuracy: 0.7115 - val_loss: 1.3155 - val_accuracy: 0.6750\n",
            "Epoch 14/20\n",
            "90/90 [==============================] - 1s 13ms/step - loss: 1.0861 - accuracy: 0.7131 - val_loss: 1.3060 - val_accuracy: 0.6728\n",
            "Epoch 15/20\n",
            "90/90 [==============================] - 1s 13ms/step - loss: 1.0484 - accuracy: 0.7350 - val_loss: 1.3368 - val_accuracy: 0.6821\n",
            "Epoch 16/20\n",
            "90/90 [==============================] - 1s 12ms/step - loss: 1.0500 - accuracy: 0.7345 - val_loss: 1.2764 - val_accuracy: 0.6857\n",
            "Epoch 17/20\n",
            "90/90 [==============================] - 1s 13ms/step - loss: 0.9275 - accuracy: 0.7616 - val_loss: 1.2653 - val_accuracy: 0.6825\n",
            "Epoch 18/20\n",
            "90/90 [==============================] - 1s 13ms/step - loss: 0.8676 - accuracy: 0.7796 - val_loss: 1.2432 - val_accuracy: 0.6941\n",
            "Epoch 19/20\n",
            "90/90 [==============================] - 1s 12ms/step - loss: 0.8689 - accuracy: 0.7814 - val_loss: 1.2387 - val_accuracy: 0.6955\n",
            "Epoch 20/20\n",
            "90/90 [==============================] - 1s 13ms/step - loss: 0.8566 - accuracy: 0.7860 - val_loss: 1.2600 - val_accuracy: 0.6999\n",
            "71/71 [==============================] - 0s 4ms/step - loss: 1.2600 - accuracy: 0.6999\n",
            "\n",
            " Test Accuracy: 0.6999\n"
          ],
          "name": "stdout"
        },
        {
          "output_type": "display_data",
          "data": {
            "image/png": "[encoded data removed]",
            "text/plain": [
              "<Figure size 432x288 with 1 Axes>"
            ]
          },
          "metadata": {
            "tags": [],
            "needs_background": "light"
          }
        }
      ]
    },
    {
      "cell_type": "code",
      "metadata": {
        "id": "p2T3OnVy3Ae1"
      },
      "source": [
        ""
      ],
      "execution_count": null,
      "outputs": []
    }
  ]
}
